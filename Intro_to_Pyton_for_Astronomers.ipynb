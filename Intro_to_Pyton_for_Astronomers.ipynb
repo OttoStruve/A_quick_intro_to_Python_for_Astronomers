{
 "cells": [
  {
   "cell_type": "markdown",
   "metadata": {},
   "source": [
    "## A quick introduction to Python for Astronomers\n",
    "\n",
    "Written for the Practical Introduction to Research Class at UT Austin in Fall 2015 \n",
    "\n",
    "Updated for TAURUS sumemr research program in June 2016\n",
    "\n",
    "Emma Yu"
   ]
  },
  {
   "cell_type": "markdown",
   "metadata": {},
   "source": [
    "### 1. Backgroud"
   ]
  },
  {
   "cell_type": "markdown",
   "metadata": {},
   "source": [
    "After a few weeks working with IDL, many of you are already IDL ninjas. Now let's have a look at another language in which a lot of Astronomy packages are now available - [Python](https://www.python.org/).\n",
    "\n",
    "Python is an object-orientied, dynamic, general-purpose language. Unlike C and Fortran, it's an [interpreted language](https://en.wikipedia.org/wiki/Interpreted_language), which means the code is interpreted at runtime, and one does not need to compile the code ahead of time. Python is an free and [open source software](https://en.wikipedia.org/wiki/Free_and_open-source_software), which means one does not need to pay anything to use it, and everyone is welcome to contribute and to make the software better! \n",
    "\n",
    "The language was first develoted by [Guido van Rossum](https://www.python.org/~guido/), and the first version appearred in [1991](https://en.wikipedia.org/wiki/Python_(programming_language)). There are a few popular distributions available for easy installation and package management. I personally recomend [Anoconda](https://store.continuum.io/cshop/anaconda/) - with which one can install and manage libraraies all in one place and easily create different working environments. \n",
    "\n",
    "This tutorial is written in [Jupyter notebook](http://jupyter.org), which allows one to write programs in a browser, and save all the instructions, code, and plots in the same notebook. It's great for writing a tutorial like this, but may not be optimal for writing a large project. \n",
    "\n",
    "This tutorial is based on Python 2.7 because at the time when this tutorial was first written, many Astronomy packages were not available in Python 3 yet. For a comparison between the two versions, please see this [wiki article](https://wiki.python.org/moin/Python2orPython3)."
   ]
  },
  {
   "cell_type": "markdown",
   "metadata": {},
   "source": [
    "### 2. A few practical differences between Python and IDL"
   ]
  },
  {
   "cell_type": "markdown",
   "metadata": {},
   "source": [
    "#### Similarities:\n",
    "- the data type is dynamic - it can be changed in the code.\n",
    "- index starts from 0.\n",
    "- Note that \"copy\" only generates a new view and does not actually copy the data!!!!\n",
    "\n",
    "#### Differences:\n",
    "\n",
    "- Python uses indentation to denote the structure of the code. \n",
    "- Things are organized as objects in Python.\n",
    "- The basic Python does not usually support what we want to do. One needs to load several packages for example to manipulate multi-dimensional arrays.\n"
   ]
  },
  {
   "cell_type": "markdown",
   "metadata": {
    "collapsed": true
   },
   "source": [
    "### 3. Array basics\n",
    "\n",
    "For the purposes of this tutorial, we will mostly use the [Numpy](http://www.numpy.org/) package to manipulate array-based data.\n",
    "\n",
    "First, let load the package by:"
   ]
  },
  {
   "cell_type": "code",
   "execution_count": 1,
   "metadata": {
    "collapsed": true
   },
   "outputs": [],
   "source": [
    "import numpy as np"
   ]
  },
  {
   "cell_type": "markdown",
   "metadata": {},
   "source": [
    "Numpy supports the array data type just as the arrays we've previously seen in IDL. Similar to 'findgen', one can generate an array with indics by: "
   ]
  },
  {
   "cell_type": "code",
   "execution_count": 2,
   "metadata": {
    "collapsed": false
   },
   "outputs": [
    {
     "name": "stdout",
     "output_type": "stream",
     "text": [
      "[ 0  1  2  3  4  5  6  7  8  9 10 11 12 13 14]\n"
     ]
    }
   ],
   "source": [
    "a = np.arange(15)\n",
    "print a"
   ]
  },
  {
   "cell_type": "markdown",
   "metadata": {},
   "source": [
    "\"a\" is a numpy array object. Numpy array provides a range of a lot of default precedures called \"methods\" that can be applied to numpy array objects. One can use \"dir()\" to find out what methods are avialible.  "
   ]
  },
  {
   "cell_type": "code",
   "execution_count": 5,
   "metadata": {
    "collapsed": false,
    "scrolled": true
   },
   "outputs": [
    {
     "name": "stdout",
     "output_type": "stream",
     "text": [
      "<type 'numpy.ndarray'>\n",
      "['T', '__abs__', '__add__', '__and__', '__array__', '__array_finalize__', '__array_interface__', '__array_prepare__', '__array_priority__', '__array_struct__', '__array_wrap__', '__class__', '__contains__', '__copy__', '__deepcopy__', '__delattr__', '__delitem__', '__delslice__', '__div__', '__divmod__', '__doc__', '__eq__', '__float__', '__floordiv__', '__format__', '__ge__', '__getattribute__', '__getitem__', '__getslice__', '__gt__', '__hash__', '__hex__', '__iadd__', '__iand__', '__idiv__', '__ifloordiv__', '__ilshift__', '__imod__', '__imul__', '__index__', '__init__', '__int__', '__invert__', '__ior__', '__ipow__', '__irshift__', '__isub__', '__iter__', '__itruediv__', '__ixor__', '__le__', '__len__', '__long__', '__lshift__', '__lt__', '__mod__', '__mul__', '__ne__', '__neg__', '__new__', '__nonzero__', '__oct__', '__or__', '__pos__', '__pow__', '__radd__', '__rand__', '__rdiv__', '__rdivmod__', '__reduce__', '__reduce_ex__', '__repr__', '__rfloordiv__', '__rlshift__', '__rmod__', '__rmul__', '__ror__', '__rpow__', '__rrshift__', '__rshift__', '__rsub__', '__rtruediv__', '__rxor__', '__setattr__', '__setitem__', '__setslice__', '__setstate__', '__sizeof__', '__str__', '__sub__', '__subclasshook__', '__truediv__', '__xor__', 'all', 'any', 'argmax', 'argmin', 'argpartition', 'argsort', 'astype', 'base', 'byteswap', 'choose', 'clip', 'compress', 'conj', 'conjugate', 'copy', 'ctypes', 'cumprod', 'cumsum', 'data', 'diagonal', 'dot', 'dtype', 'dump', 'dumps', 'fill', 'flags', 'flat', 'flatten', 'getfield', 'imag', 'item', 'itemset', 'itemsize', 'max', 'mean', 'min', 'nbytes', 'ndim', 'newbyteorder', 'nonzero', 'partition', 'prod', 'ptp', 'put', 'ravel', 'real', 'repeat', 'reshape', 'resize', 'round', 'searchsorted', 'setfield', 'setflags', 'shape', 'size', 'sort', 'squeeze', 'std', 'strides', 'sum', 'swapaxes', 'take', 'tobytes', 'tofile', 'tolist', 'tostring', 'trace', 'transpose', 'var', 'view']\n"
     ]
    }
   ],
   "source": [
    "print type(a)\n",
    "print dir(a)"
   ]
  },
  {
   "cell_type": "markdown",
   "metadata": {},
   "source": [
    "Now let's try to use the reshape method to reshape the array!\n",
    "In general, one can apply a method to an object by using \"arrayname dot nameofthemethod\". "
   ]
  },
  {
   "cell_type": "code",
   "execution_count": 6,
   "metadata": {
    "collapsed": false
   },
   "outputs": [
    {
     "name": "stdout",
     "output_type": "stream",
     "text": [
      "[[ 0  1  2  3  4]\n",
      " [ 5  6  7  8  9]\n",
      " [10 11 12 13 14]]\n"
     ]
    }
   ],
   "source": [
    "# For example, to rearrange it\n",
    "a = a.reshape(3,5)\n",
    "print a"
   ]
  },
  {
   "cell_type": "code",
   "execution_count": 7,
   "metadata": {
    "collapsed": false
   },
   "outputs": [
    {
     "data": {
      "text/plain": [
       "(3, 5)"
      ]
     },
     "execution_count": 7,
     "metadata": {},
     "output_type": "execute_result"
    }
   ],
   "source": [
    "# To find out the shape\n",
    "a.shape"
   ]
  },
  {
   "cell_type": "code",
   "execution_count": 8,
   "metadata": {
    "collapsed": false
   },
   "outputs": [
    {
     "data": {
      "text/plain": [
       "'int64'"
      ]
     },
     "execution_count": 8,
     "metadata": {},
     "output_type": "execute_result"
    }
   ],
   "source": [
    "# To find out the type of data contained in the array\n",
    "a.dtype.name\n"
   ]
  },
  {
   "cell_type": "markdown",
   "metadata": {},
   "source": [
    "As we've seen in the examples, \"#\" denotes comments in Python, and the line after the # sign will not be executed.\n",
    "\n",
    "One can also create arrays by specifying the elements. "
   ]
  },
  {
   "cell_type": "code",
   "execution_count": 9,
   "metadata": {
    "collapsed": false
   },
   "outputs": [
    {
     "name": "stdout",
     "output_type": "stream",
     "text": [
      "[[4 6 2 6]\n",
      " [5 7 2 8]]\n"
     ]
    }
   ],
   "source": [
    "b = np.array([[4,6,2,6],[5,7,2,8]])\n",
    "print b"
   ]
  },
  {
   "cell_type": "markdown",
   "metadata": {},
   "source": [
    "Similar to IDL, a function to the array can be broadcasted to every element. So unlike in C and Fortran, one doesn't have to loop through every element. "
   ]
  },
  {
   "cell_type": "code",
   "execution_count": 10,
   "metadata": {
    "collapsed": false
   },
   "outputs": [
    {
     "name": "stdout",
     "output_type": "stream",
     "text": [
      "[[ 8 12  4 12]\n",
      " [10 14  4 16]]\n"
     ]
    }
   ],
   "source": [
    "print b*2"
   ]
  },
  {
   "cell_type": "code",
   "execution_count": 11,
   "metadata": {
    "collapsed": false
   },
   "outputs": [
    {
     "name": "stdout",
     "output_type": "stream",
     "text": [
      "[[16 36  4 36]\n",
      " [25 49  4 64]]\n"
     ]
    }
   ],
   "source": [
    "print b**2"
   ]
  },
  {
   "cell_type": "markdown",
   "metadata": {},
   "source": [
    "To slice the array or access individual elements, one can select by location just as in IDL, and the index start from 0 as well."
   ]
  },
  {
   "cell_type": "code",
   "execution_count": 9,
   "metadata": {
    "collapsed": false
   },
   "outputs": [
    {
     "name": "stdout",
     "output_type": "stream",
     "text": [
      "[4 6]\n"
     ]
    }
   ],
   "source": [
    "print b[0,0:2]"
   ]
  },
  {
   "cell_type": "markdown",
   "metadata": {},
   "source": [
    "\":\" means everything, just like \"*\" in IDL."
   ]
  },
  {
   "cell_type": "code",
   "execution_count": 10,
   "metadata": {
    "collapsed": false
   },
   "outputs": [
    {
     "name": "stdout",
     "output_type": "stream",
     "text": [
      "[4 6 2 6]\n"
     ]
    }
   ],
   "source": [
    "print b[0,:]"
   ]
  },
  {
   "cell_type": "markdown",
   "metadata": {},
   "source": [
    "### 4. Control Structure"
   ]
  },
  {
   "cell_type": "markdown",
   "metadata": {
    "collapsed": true
   },
   "source": [
    "- The if statement in Python looks like:"
   ]
  },
  {
   "cell_type": "code",
   "execution_count": 11,
   "metadata": {
    "collapsed": false
   },
   "outputs": [
    {
     "name": "stdout",
     "output_type": "stream",
     "text": [
      "x is positive!\n"
     ]
    }
   ],
   "source": [
    "x = 3\n",
    "\n",
    "if x < 0:\n",
    "    print 'x is negative!'\n",
    "elif x == 0:\n",
    "    print 'x is zero!'\n",
    "else:\n",
    "    print 'x is positive!'"
   ]
  },
  {
   "cell_type": "markdown",
   "metadata": {
    "collapsed": true
   },
   "source": [
    "Note that the begining and end of the statement is marked by indentation, and there is the \":\" after each control statement."
   ]
  },
  {
   "cell_type": "markdown",
   "metadata": {
    "collapsed": true
   },
   "source": [
    "- A for loop looks like this in Python:"
   ]
  },
  {
   "cell_type": "code",
   "execution_count": 12,
   "metadata": {
    "collapsed": false
   },
   "outputs": [
    {
     "name": "stdout",
     "output_type": "stream",
     "text": [
      "0\n",
      "1\n",
      "2\n",
      "3\n",
      "4\n",
      "5\n",
      "6\n",
      "7\n",
      "8\n",
      "9\n"
     ]
    }
   ],
   "source": [
    "for i in range(0,10):\n",
    "    print i"
   ]
  },
  {
   "cell_type": "code",
   "execution_count": 13,
   "metadata": {
    "collapsed": false
   },
   "outputs": [
    {
     "name": "stdout",
     "output_type": "stream",
     "text": [
      "cat 3\n",
      "window 6\n",
      "defenestrate 12\n"
     ]
    }
   ],
   "source": [
    "words = ['cat', 'window', 'defenestrate']\n",
    "for w in words:\n",
    "    print w, len(w)"
   ]
  },
  {
   "cell_type": "markdown",
   "metadata": {},
   "source": [
    "### 5. User defined functions"
   ]
  },
  {
   "cell_type": "markdown",
   "metadata": {},
   "source": [
    "#### Example 1: define a function to print out the user's name and age in a nice format"
   ]
  },
  {
   "cell_type": "code",
   "execution_count": 15,
   "metadata": {
    "collapsed": false
   },
   "outputs": [],
   "source": [
    "def printinfo( name, age ):\n",
    "    \"This prints a passed info into this function\"\n",
    "    print \"Name: \", name\n",
    "    print \"Age: \", age\n",
    "    return"
   ]
  },
  {
   "cell_type": "markdown",
   "metadata": {},
   "source": [
    "Now we can call printinfo function:"
   ]
  },
  {
   "cell_type": "code",
   "execution_count": 16,
   "metadata": {
    "collapsed": false
   },
   "outputs": [
    {
     "name": "stdout",
     "output_type": "stream",
     "text": [
      "Name:  Eva\n",
      "Age:  22\n"
     ]
    }
   ],
   "source": [
    "printinfo( \"Eva\", 22 )"
   ]
  },
  {
   "cell_type": "markdown",
   "metadata": {},
   "source": [
    "One can specify variable names, and put them in arbitrary order:"
   ]
  },
  {
   "cell_type": "code",
   "execution_count": 17,
   "metadata": {
    "collapsed": false
   },
   "outputs": [
    {
     "name": "stdout",
     "output_type": "stream",
     "text": [
      "Name:  Tom\n",
      "Age:  18\n"
     ]
    }
   ],
   "source": [
    "printinfo( age= 18, name=\"Tom\" )"
   ]
  },
  {
   "cell_type": "markdown",
   "metadata": {},
   "source": [
    "#### Example 2: Apply the same function to all array elements "
   ]
  },
  {
   "cell_type": "code",
   "execution_count": 18,
   "metadata": {
    "collapsed": true
   },
   "outputs": [],
   "source": [
    "def addminus(a,b):\n",
    "    if a > b:\n",
    "        return a - b\n",
    "    else:\n",
    "        return a + b"
   ]
  },
  {
   "cell_type": "markdown",
   "metadata": {
    "collapsed": true
   },
   "source": [
    "A function can be very useful when we want to apply the same procedure again and again:"
   ]
  },
  {
   "cell_type": "code",
   "execution_count": 22,
   "metadata": {
    "collapsed": false
   },
   "outputs": [
    {
     "name": "stdout",
     "output_type": "stream",
     "text": [
      "a=  0 , b=  1 , result=  1\n",
      "a=  3 , b=  3 , result=  6\n",
      "a=  6 , b=  5 , result=  1\n",
      "a=  9 , b=  7 , result=  2\n"
     ]
    }
   ],
   "source": [
    "a = [0,3,6,9]\n",
    "b = [1,3,5,7]\n",
    "\n",
    "for i in range(0,4):\n",
    "    print 'a= ', a[i], ', b= ', b[i], ', result= ', addminus(a[i],b[i])"
   ]
  },
  {
   "cell_type": "markdown",
   "metadata": {},
   "source": [
    "### 6. Basic plotting"
   ]
  },
  {
   "cell_type": "markdown",
   "metadata": {},
   "source": [
    "#### Example 1: A simple scatter plot of the data above: "
   ]
  },
  {
   "cell_type": "code",
   "execution_count": 23,
   "metadata": {
    "collapsed": false
   },
   "outputs": [
    {
     "data": {
      "image/png": "[encoded data removed]",
      "text/plain": [
       "<matplotlib.figure.Figure at 0x1083ecd10>"
      ]
     },
     "metadata": {},
     "output_type": "display_data"
    }
   ],
   "source": [
    "import matplotlib.pyplot as plt\n",
    "%matplotlib inline\n",
    "\n",
    "plt.plot(a,b,'o')\n",
    "plt.xlabel('a')\n",
    "plt.ylabel('b')\n",
    "plt.title('A simple scatter plot')\n",
    "plt.axis([-2,12,0,10]) #set the range of axis\n",
    "plt.show()"
   ]
  },
  {
   "cell_type": "markdown",
   "metadata": {},
   "source": [
    "#### Example 2: A histogram of samples generated from a Standard Normal distribution"
   ]
  },
  {
   "cell_type": "code",
   "execution_count": 24,
   "metadata": {
    "collapsed": false
   },
   "outputs": [
    {
     "data": {
      "image/png": "[encoded data removed]",
      "text/plain": [
       "<matplotlib.figure.Figure at 0x107278f90>"
      ]
     },
     "metadata": {},
     "output_type": "display_data"
    }
   ],
   "source": [
    "# Generate data from a standard normal distribution\n",
    "x = np.random.randn(10000)\n",
    "\n",
    "plt.hist(x, 50, facecolor='green') # number of bins = 50 \n",
    "plt.xlabel('x')\n",
    "plt.ylabel('count')\n",
    "plt.title('A histogram of the standard normal distribution')\n",
    "plt.grid(True)\n",
    "plt.show()\n"
   ]
  },
  {
   "cell_type": "markdown",
   "metadata": {
    "collapsed": false
   },
   "source": [
    "### 7. Reading FITS data"
   ]
  },
  {
   "cell_type": "markdown",
   "metadata": {
    "collapsed": true
   },
   "source": [
    "#### Astronomers work with data in FITS format a lot. \n",
    "#### Now let's load the \"Astropy\" package to look at some data we've seen early on in the IDL tutorial!\n",
    "\n",
    "\n",
    "#### This part of the tutorial is modified from [Jacob Hummel's talk](http://www.as.utexas.edu/~jsilverman/gsps/hummel_gsps_f14_ipython_notebook/hummel_gsps_f14_ipython_notebook.html]) on iPython notebook at Graduate Student and Postdoc Seminar \n"
   ]
  },
  {
   "cell_type": "code",
   "execution_count": 23,
   "metadata": {
    "collapsed": false
   },
   "outputs": [
    {
     "name": "stdout",
     "output_type": "stream",
     "text": [
      "Filename: ngc720j.fits\n",
      "No.    Name         Type      Cards   Dimensions   Format\n",
      "0    PRIMARY     PrimaryHDU     106   (494, 494)   int16   \n"
     ]
    }
   ],
   "source": [
    "from astropy.io import fits\n",
    "\n",
    "hdu_list = fits.open('ngc720j.fits')\n",
    "hdu_list.info()"
   ]
  },
  {
   "cell_type": "code",
   "execution_count": 41,
   "metadata": {
    "collapsed": false
   },
   "outputs": [
    {
     "name": "stdout",
     "output_type": "stream",
     "text": [
      "<type 'numpy.ndarray'>\n"
     ]
    }
   ],
   "source": [
    "# The data in read in as a numpy array: \n",
    "image_data = hdu_list[0].data\n",
    "print(type(image_data))"
   ]
  },
  {
   "cell_type": "code",
   "execution_count": 42,
   "metadata": {
    "collapsed": false
   },
   "outputs": [
    {
     "name": "stdout",
     "output_type": "stream",
     "text": [
      "(494, 494)\n"
     ]
    }
   ],
   "source": [
    "# To find out the size of the image\n",
    "print(image_data.shape)"
   ]
  },
  {
   "cell_type": "code",
   "execution_count": 44,
   "metadata": {
    "collapsed": true
   },
   "outputs": [],
   "source": [
    "# Let's close the path once we've read in the data\n",
    "hdu_list.close()"
   ]
  },
  {
   "cell_type": "code",
   "execution_count": 45,
   "metadata": {
    "collapsed": false
   },
   "outputs": [
    {
     "name": "stdout",
     "output_type": "stream",
     "text": [
      "('Min:', 3126)\n",
      "('Max:', 18938)\n",
      "('Mean:', 6002.3003040535004)\n",
      "('Stdev:', 1090.0287982981233)\n"
     ]
    }
   ],
   "source": [
    "# plot some statistics of the plot:\n",
    "print('Min:', np.min(image_data))\n",
    "print('Max:', np.max(image_data))\n",
    "print('Mean:', np.mean(image_data))\n",
    "print('Stdev:', np.std(image_data))"
   ]
  },
  {
   "cell_type": "markdown",
   "metadata": {},
   "source": [
    "#### To have a quick look at the image "
   ]
  },
  {
   "cell_type": "code",
   "execution_count": 33,
   "metadata": {
    "collapsed": false
   },
   "outputs": [
    {
     "data": {
      "image/png": "[encoded data removed]",
      "text/plain": [
       "<matplotlib.figure.Figure at 0x11167c250>"
      ]
     },
     "metadata": {},
     "output_type": "display_data"
    }
   ],
   "source": [
    "plt.imshow(image_data, cmap='afmhot', origin='lower')\n",
    "plt.title('NGC720 J-band image')\n",
    "plt.colorbar()\n",
    "# save it as a ps file\n",
    "plt.savefig('NGC720J.ps')"
   ]
  },
  {
   "cell_type": "markdown",
   "metadata": {},
   "source": [
    "#### Now let's plot a histogram of the photon statistics"
   ]
  },
  {
   "cell_type": "code",
   "execution_count": 37,
   "metadata": {
    "collapsed": false
   },
   "outputs": [
    {
     "name": "stdout",
     "output_type": "stream",
     "text": [
      "<type 'numpy.flatiter'>\n"
     ]
    }
   ],
   "source": [
    "print(type(image_data.flat))"
   ]
  },
  {
   "cell_type": "code",
   "execution_count": 38,
   "metadata": {
    "collapsed": false
   },
   "outputs": [
    {
     "data": {
      "image/png": "[encoded data removed]",
      "text/plain": [
       "<matplotlib.figure.Figure at 0x115744510>"
      ]
     },
     "metadata": {},
     "output_type": "display_data"
    }
   ],
   "source": [
    "NBINS = 1000\n",
    "histogram = plt.hist(image_data.flat, NBINS)"
   ]
  },
  {
   "cell_type": "code",
   "execution_count": 39,
   "metadata": {
    "collapsed": false
   },
   "outputs": [
    {
     "data": {
      "image/png": "[encoded data removed]",
      "text/plain": [
       "<matplotlib.figure.Figure at 0x11213f350>"
      ]
     },
     "metadata": {},
     "output_type": "display_data"
    }
   ],
   "source": [
    "# Zone into the inner part of the histogram\n",
    "histogram = plt.hist(image_data.flat, NBINS, range=[4000, 10000])"
   ]
  },
  {
   "cell_type": "markdown",
   "metadata": {
    "collapsed": true
   },
   "source": [
    "### 7. Other tips:\n",
    "\n",
    "- To find help: ?thing_you_want_to_understand\n",
    "- Forget what methods you have: use tab key, and ipython notebook will bring up your options."
   ]
  },
  {
   "cell_type": "markdown",
   "metadata": {},
   "source": [
    "### 8. Putting everything together - Calculating the \"look-back-time\" with redshifts!\n",
    "\n",
    "Following content is modified from a notebook by Jacob Hummel: [https://github.com/hummel/AST376_FALL2014/blob/master/homework/homework1.ipynb]"
   ]
  },
  {
   "cell_type": "markdown",
   "metadata": {
    "collapsed": true
   },
   "source": [
    "\n",
    "\n",
    "A note on how to calculate the look-back-time can be found at [http://www.astro.umd.edu/~miller/teaching/astr422/lecture14.pdf]"
   ]
  },
  {
   "cell_type": "code",
   "execution_count": 26,
   "metadata": {
    "collapsed": true
   },
   "outputs": [],
   "source": [
    "import numpy as np\n",
    "import seaborn as sns\n",
    "from scipy.integrate import quad\n",
    "from matplotlib import pyplot as plt\n",
    "%matplotlib inline"
   ]
  },
  {
   "cell_type": "code",
   "execution_count": 27,
   "metadata": {
    "collapsed": true
   },
   "outputs": [],
   "source": [
    "def integrand(z):\n",
    "    return 1/(1+z) / (0.26*(1+z)**3 + 0.74)**0.5"
   ]
  },
  {
   "cell_type": "code",
   "execution_count": 28,
   "metadata": {
    "collapsed": false
   },
   "outputs": [
    {
     "name": "stdout",
     "output_type": "stream",
     "text": [
      "[  0.           0.40816327   0.81632653   1.2244898    1.63265306\n",
      "   2.04081633   2.44897959   2.85714286   3.26530612   3.67346939\n",
      "   4.08163265   4.48979592   4.89795918   5.30612245   5.71428571\n",
      "   6.12244898   6.53061224   6.93877551   7.34693878   7.75510204\n",
      "   8.16326531   8.57142857   8.97959184   9.3877551    9.79591837\n",
      "  10.20408163  10.6122449   11.02040816  11.42857143  11.83673469\n",
      "  12.24489796  12.65306122  13.06122449  13.46938776  13.87755102\n",
      "  14.28571429  14.69387755  15.10204082  15.51020408  15.91836735\n",
      "  16.32653061  16.73469388  17.14285714  17.55102041  17.95918367\n",
      "  18.36734694  18.7755102   19.18367347  19.59183673  20.        ]\n"
     ]
    }
   ],
   "source": [
    "# discrete redshift points to calculate\n",
    "# np.linespace generates a seq of n numbers between the beginning and ending points\n",
    "# the default n is 50.\n",
    "\n",
    "zp = np.linspace(0,20) \n",
    "print zp"
   ]
  },
  {
   "cell_type": "code",
   "execution_count": 29,
   "metadata": {
    "collapsed": false
   },
   "outputs": [],
   "source": [
    "# crate an empty list to save results\n",
    "# we want it to be a list so that we can easily add elements into the list\n",
    "tp = [] \n",
    "\n",
    "for z in zp:\n",
    "    ans,err = quad(integrand, 0, z)\n",
    "    tp.append(ans * 13.88)\n",
    "    \n",
    "# convert the mutable list to a static array when finished.    \n",
    "# This conversion isn't necessary so long as both zp and tp have same number of points.\n",
    "tp = np.asarray(tp) "
   ]
  },
  {
   "cell_type": "code",
   "execution_count": 30,
   "metadata": {
    "collapsed": false
   },
   "outputs": [
    {
     "data": {
      "text/plain": [
       "<matplotlib.text.Text at 0x10b7c6390>"
      ]
     },
     "execution_count": 30,
     "metadata": {},
     "output_type": "execute_result"
    },
    {
     "data": {
      "image/png": "[encoded data removed]",
      "text/plain": [
       "<matplotlib.figure.Figure at 0x10b79a4d0>"
      ]
     },
     "metadata": {},
     "output_type": "display_data"
    }
   ],
   "source": [
    "plt.plot(zp,tp)\n",
    "plt.xlabel('Redshift')\n",
    "plt.ylabel('Lookback Time in Gyr')\n",
    "plt.title('Look back time with redshifts')\n",
    "\n",
    "# To save the plot:\n",
    "#plt.savefig('hw1.png', bbox_inches='tight') #bbox_inches option just tightens up the produced figure"
   ]
  },
  {
   "cell_type": "code",
   "execution_count": null,
   "metadata": {
    "collapsed": true
   },
   "outputs": [],
   "source": []
  }
 ],
 "metadata": {
  "kernelspec": {
   "display_name": "Python 2",
   "language": "python",
   "name": "python2"
  },
  "language_info": {
   "codemirror_mode": {
    "name": "ipython",
    "version": 2
   },
   "file_extension": ".py",
   "mimetype": "text/x-python",
   "name": "python",
   "nbconvert_exporter": "python",
   "pygments_lexer": "ipython2",
   "version": "2.7.10"
  }
 },
 "nbformat": 4,
 "nbformat_minor": 0
}
